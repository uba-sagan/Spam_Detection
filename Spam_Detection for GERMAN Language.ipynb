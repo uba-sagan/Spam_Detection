{
  "nbformat": 4,
  "nbformat_minor": 0,
  "metadata": {
    "colab": {
      "name": "BDA_PROJECT_FINAL_(German).ipynb",
      "provenance": [],
      "collapsed_sections": []
    },
    "kernelspec": {
      "name": "python3",
      "display_name": "Python 3"
    },
    "language_info": {
      "name": "python"
    }
  },
  "cells": [
    {
      "cell_type": "markdown",
      "metadata": {
        "id": "agLVC_zTgk0U"
      },
      "source": [
        "SPAM DETECTION "
      ]
    },
    {
      "cell_type": "code",
      "metadata": {
        "id": "wwCCugZNyOpo"
      },
      "source": [
        "import numpy as np\n",
        "import pandas as pd\n",
        "import matplotlib as mpl\n",
        "import matplotlib.pyplot as plt\n",
        "import seaborn as sns\n",
        "import string\n",
        "from sklearn.feature_extraction.text import TfidfVectorizer\n",
        "from sklearn.model_selection import train_test_split\n",
        "from nltk.stem import SnowballStemmer\n",
        "from nltk.corpus import stopwords\n",
        "%matplotlib inline"
      ],
      "execution_count": 44,
      "outputs": []
    },
    {
      "cell_type": "code",
      "metadata": {
        "id": "bveVOmZ3gx0M",
        "colab": {
          "base_uri": "https://localhost:8080/",
          "height": 203
        },
        "outputId": "4d25dffc-ef48-4a3e-e660-93671e7401a1"
      },
      "source": [
        "cols = [\"v1\",\"v2\"]\n",
        "sms = pd.read_csv('German_spam_try.csv', encoding='latin-1',usecols=cols)\n",
        "sms.head()"
      ],
      "execution_count": 45,
      "outputs": [
        {
          "output_type": "execute_result",
          "data": {
            "text/html": [
              "<div>\n",
              "<style scoped>\n",
              "    .dataframe tbody tr th:only-of-type {\n",
              "        vertical-align: middle;\n",
              "    }\n",
              "\n",
              "    .dataframe tbody tr th {\n",
              "        vertical-align: top;\n",
              "    }\n",
              "\n",
              "    .dataframe thead th {\n",
              "        text-align: right;\n",
              "    }\n",
              "</style>\n",
              "<table border=\"1\" class=\"dataframe\">\n",
              "  <thead>\n",
              "    <tr style=\"text-align: right;\">\n",
              "      <th></th>\n",
              "      <th>v1</th>\n",
              "      <th>v2</th>\n",
              "    </tr>\n",
              "  </thead>\n",
              "  <tbody>\n",
              "    <tr>\n",
              "      <th>0</th>\n",
              "      <td>ham</td>\n",
              "      <td>Ich bin franzose und bin seit ein paar Wochen ...</td>\n",
              "    </tr>\n",
              "    <tr>\n",
              "      <th>1</th>\n",
              "      <td>ham</td>\n",
              "      <td>Dieser Arzt ist das unmÃ¶glichste was mir in m...</td>\n",
              "    </tr>\n",
              "    <tr>\n",
              "      <th>2</th>\n",
              "      <td>spam</td>\n",
              "      <td>Hatte akute Beschwerden am RÃ¼cken. Herr Magur...</td>\n",
              "    </tr>\n",
              "    <tr>\n",
              "      <th>3</th>\n",
              "      <td>ham</td>\n",
              "      <td>Nachdem ich in der Klinik nur ungenaue Angaben...</td>\n",
              "    </tr>\n",
              "    <tr>\n",
              "      <th>4</th>\n",
              "      <td>ham</td>\n",
              "      <td>Frau Dr. Vetter kenne ich seit vielen Jahren, ...</td>\n",
              "    </tr>\n",
              "  </tbody>\n",
              "</table>\n",
              "</div>"
            ],
            "text/plain": [
              "     v1                                                 v2\n",
              "0   ham  Ich bin franzose und bin seit ein paar Wochen ...\n",
              "1   ham  Dieser Arzt ist das unmÃ¶glichste was mir in m...\n",
              "2  spam  Hatte akute Beschwerden am RÃ¼cken. Herr Magur...\n",
              "3   ham  Nachdem ich in der Klinik nur ungenaue Angaben...\n",
              "4   ham  Frau Dr. Vetter kenne ich seit vielen Jahren, ..."
            ]
          },
          "metadata": {
            "tags": []
          },
          "execution_count": 45
        }
      ]
    },
    {
      "cell_type": "code",
      "metadata": {
        "id": "DSyb6DgX6EdU",
        "colab": {
          "base_uri": "https://localhost:8080/",
          "height": 203
        },
        "outputId": "9852973d-1605-468a-c941-437e7cbc096a"
      },
      "source": [
        "sms.tail()"
      ],
      "execution_count": 46,
      "outputs": [
        {
          "output_type": "execute_result",
          "data": {
            "text/html": [
              "<div>\n",
              "<style scoped>\n",
              "    .dataframe tbody tr th:only-of-type {\n",
              "        vertical-align: middle;\n",
              "    }\n",
              "\n",
              "    .dataframe tbody tr th {\n",
              "        vertical-align: top;\n",
              "    }\n",
              "\n",
              "    .dataframe thead th {\n",
              "        text-align: right;\n",
              "    }\n",
              "</style>\n",
              "<table border=\"1\" class=\"dataframe\">\n",
              "  <thead>\n",
              "    <tr style=\"text-align: right;\">\n",
              "      <th></th>\n",
              "      <th>v1</th>\n",
              "      <th>v2</th>\n",
              "    </tr>\n",
              "  </thead>\n",
              "  <tbody>\n",
              "    <tr>\n",
              "      <th>15019</th>\n",
              "      <td>ham</td>\n",
              "      <td>Lange Zeit war ich auf der Suche nach einem gu...</td>\n",
              "    </tr>\n",
              "    <tr>\n",
              "      <th>15020</th>\n",
              "      <td>ham</td>\n",
              "      <td>Als ich das erste mal zu Dr. Burian wegen mein...</td>\n",
              "    </tr>\n",
              "    <tr>\n",
              "      <th>15021</th>\n",
              "      <td>ham</td>\n",
              "      <td>Herr Dr. Raissi ist ein sehr kompetenter Arzt,...</td>\n",
              "    </tr>\n",
              "    <tr>\n",
              "      <th>15022</th>\n",
              "      <td>ham</td>\n",
              "      <td>Kann super gut mit Kindern!!</td>\n",
              "    </tr>\n",
              "    <tr>\n",
              "      <th>15023</th>\n",
              "      <td>ham</td>\n",
              "      <td>Durch die Zusammenarbeit mit der Kontaklinsens...</td>\n",
              "    </tr>\n",
              "  </tbody>\n",
              "</table>\n",
              "</div>"
            ],
            "text/plain": [
              "        v1                                                 v2\n",
              "15019  ham  Lange Zeit war ich auf der Suche nach einem gu...\n",
              "15020  ham  Als ich das erste mal zu Dr. Burian wegen mein...\n",
              "15021  ham  Herr Dr. Raissi ist ein sehr kompetenter Arzt,...\n",
              "15022  ham                       Kann super gut mit Kindern!!\n",
              "15023  ham  Durch die Zusammenarbeit mit der Kontaklinsens..."
            ]
          },
          "metadata": {
            "tags": []
          },
          "execution_count": 46
        }
      ]
    },
    {
      "cell_type": "code",
      "metadata": {
        "id": "HwgYrh3mg32Z"
      },
      "source": [
        "sms = sms.rename(columns = {'v1':'label','v2':'message'})"
      ],
      "execution_count": 47,
      "outputs": []
    },
    {
      "cell_type": "code",
      "metadata": {
        "id": "hCPksS4RhDOa",
        "colab": {
          "base_uri": "https://localhost:8080/",
          "height": 172
        },
        "outputId": "784a7a4e-7d21-40de-c4df-8d082e5cda36"
      },
      "source": [
        "sms.groupby('label').describe()"
      ],
      "execution_count": 48,
      "outputs": [
        {
          "output_type": "execute_result",
          "data": {
            "text/html": [
              "<div>\n",
              "<style scoped>\n",
              "    .dataframe tbody tr th:only-of-type {\n",
              "        vertical-align: middle;\n",
              "    }\n",
              "\n",
              "    .dataframe tbody tr th {\n",
              "        vertical-align: top;\n",
              "    }\n",
              "\n",
              "    .dataframe thead tr th {\n",
              "        text-align: left;\n",
              "    }\n",
              "\n",
              "    .dataframe thead tr:last-of-type th {\n",
              "        text-align: right;\n",
              "    }\n",
              "</style>\n",
              "<table border=\"1\" class=\"dataframe\">\n",
              "  <thead>\n",
              "    <tr>\n",
              "      <th></th>\n",
              "      <th colspan=\"4\" halign=\"left\">message</th>\n",
              "    </tr>\n",
              "    <tr>\n",
              "      <th></th>\n",
              "      <th>count</th>\n",
              "      <th>unique</th>\n",
              "      <th>top</th>\n",
              "      <th>freq</th>\n",
              "    </tr>\n",
              "    <tr>\n",
              "      <th>label</th>\n",
              "      <th></th>\n",
              "      <th></th>\n",
              "      <th></th>\n",
              "      <th></th>\n",
              "    </tr>\n",
              "  </thead>\n",
              "  <tbody>\n",
              "    <tr>\n",
              "      <th>ham</th>\n",
              "      <td>13016</td>\n",
              "      <td>12996</td>\n",
              "      <td>Bin sehr zufrieden</td>\n",
              "      <td>5</td>\n",
              "    </tr>\n",
              "    <tr>\n",
              "      <th>spam</th>\n",
              "      <td>2008</td>\n",
              "      <td>2008</td>\n",
              "      <td>Nach einem Umzug aus einer GroÃstadt suchte i...</td>\n",
              "      <td>1</td>\n",
              "    </tr>\n",
              "  </tbody>\n",
              "</table>\n",
              "</div>"
            ],
            "text/plain": [
              "      message                                                               \n",
              "        count unique                                                top freq\n",
              "label                                                                       \n",
              "ham     13016  12996                                 Bin sehr zufrieden    5\n",
              "spam     2008   2008  Nach einem Umzug aus einer GroÃstadt suchte i...    1"
            ]
          },
          "metadata": {
            "tags": []
          },
          "execution_count": 48
        }
      ]
    },
    {
      "cell_type": "code",
      "metadata": {
        "id": "0_3fsIMJg7xE",
        "colab": {
          "base_uri": "https://localhost:8080/",
          "height": 203
        },
        "outputId": "7faab613-d3bc-48cc-e909-1a1914bc50d8"
      },
      "source": [
        "sms['length'] = sms['message'].apply(len)\n",
        "sms.head()"
      ],
      "execution_count": 49,
      "outputs": [
        {
          "output_type": "execute_result",
          "data": {
            "text/html": [
              "<div>\n",
              "<style scoped>\n",
              "    .dataframe tbody tr th:only-of-type {\n",
              "        vertical-align: middle;\n",
              "    }\n",
              "\n",
              "    .dataframe tbody tr th {\n",
              "        vertical-align: top;\n",
              "    }\n",
              "\n",
              "    .dataframe thead th {\n",
              "        text-align: right;\n",
              "    }\n",
              "</style>\n",
              "<table border=\"1\" class=\"dataframe\">\n",
              "  <thead>\n",
              "    <tr style=\"text-align: right;\">\n",
              "      <th></th>\n",
              "      <th>label</th>\n",
              "      <th>message</th>\n",
              "      <th>length</th>\n",
              "    </tr>\n",
              "  </thead>\n",
              "  <tbody>\n",
              "    <tr>\n",
              "      <th>0</th>\n",
              "      <td>ham</td>\n",
              "      <td>Ich bin franzose und bin seit ein paar Wochen ...</td>\n",
              "      <td>259</td>\n",
              "    </tr>\n",
              "    <tr>\n",
              "      <th>1</th>\n",
              "      <td>ham</td>\n",
              "      <td>Dieser Arzt ist das unmÃ¶glichste was mir in m...</td>\n",
              "      <td>435</td>\n",
              "    </tr>\n",
              "    <tr>\n",
              "      <th>2</th>\n",
              "      <td>spam</td>\n",
              "      <td>Hatte akute Beschwerden am RÃ¼cken. Herr Magur...</td>\n",
              "      <td>170</td>\n",
              "    </tr>\n",
              "    <tr>\n",
              "      <th>3</th>\n",
              "      <td>ham</td>\n",
              "      <td>Nachdem ich in der Klinik nur ungenaue Angaben...</td>\n",
              "      <td>459</td>\n",
              "    </tr>\n",
              "    <tr>\n",
              "      <th>4</th>\n",
              "      <td>ham</td>\n",
              "      <td>Frau Dr. Vetter kenne ich seit vielen Jahren, ...</td>\n",
              "      <td>387</td>\n",
              "    </tr>\n",
              "  </tbody>\n",
              "</table>\n",
              "</div>"
            ],
            "text/plain": [
              "  label                                            message  length\n",
              "0   ham  Ich bin franzose und bin seit ein paar Wochen ...     259\n",
              "1   ham  Dieser Arzt ist das unmÃ¶glichste was mir in m...     435\n",
              "2  spam  Hatte akute Beschwerden am RÃ¼cken. Herr Magur...     170\n",
              "3   ham  Nachdem ich in der Klinik nur ungenaue Angaben...     459\n",
              "4   ham  Frau Dr. Vetter kenne ich seit vielen Jahren, ...     387"
            ]
          },
          "metadata": {
            "tags": []
          },
          "execution_count": 49
        }
      ]
    },
    {
      "cell_type": "code",
      "metadata": {
        "id": "t3CU2jKMhSnK",
        "colab": {
          "base_uri": "https://localhost:8080/",
          "height": 407
        },
        "outputId": "329d33da-2c12-4717-8743-bddd6094fdc8"
      },
      "source": [
        "mpl.rcParams['patch.force_edgecolor'] = True\n",
        "plt.style.use('fivethirtyeight')\n",
        "sms.hist(column='length', by='label', bins=50,figsize=(11,5))"
      ],
      "execution_count": 50,
      "outputs": [
        {
          "output_type": "execute_result",
          "data": {
            "text/plain": [
              "array([<matplotlib.axes._subplots.AxesSubplot object at 0x7fc7906d7310>,\n",
              "       <matplotlib.axes._subplots.AxesSubplot object at 0x7fc7903e0390>],\n",
              "      dtype=object)"
            ]
          },
          "metadata": {
            "tags": []
          },
          "execution_count": 50
        },
        {
          "output_type": "display_data",
          "data": {
            "image/png": "[encoded data removed]",
            "text/plain": [
              "<Figure size 792x360 with 2 Axes>"
            ]
          },
          "metadata": {
            "tags": []
          }
        }
      ]
    },
    {
      "cell_type": "markdown",
      "metadata": {
        "id": "vZsW-ReBhihh"
      },
      "source": [
        "Text processing and vectorizing our messages"
      ]
    },
    {
      "cell_type": "code",
      "metadata": {
        "id": "2yHyA4FXhVay",
        "colab": {
          "base_uri": "https://localhost:8080/"
        },
        "outputId": "a97231ed-b28e-47a9-853c-bd69ac488e98"
      },
      "source": [
        "text_feat = sms['message'].copy()\n",
        "print(text_feat)"
      ],
      "execution_count": 51,
      "outputs": [
        {
          "output_type": "stream",
          "text": [
            "0        Ich bin franzose und bin seit ein paar Wochen ...\n",
            "1        Dieser Arzt ist das unmÃ¶glichste was mir in m...\n",
            "2        Hatte akute Beschwerden am RÃ¼cken. Herr Magur...\n",
            "3        Nachdem ich in der Klinik nur ungenaue Angaben...\n",
            "4        Frau Dr. Vetter kenne ich seit vielen Jahren, ...\n",
            "                               ...                        \n",
            "15019    Lange Zeit war ich auf der Suche nach einem gu...\n",
            "15020    Als ich das erste mal zu Dr. Burian wegen mein...\n",
            "15021    Herr Dr. Raissi ist ein sehr kompetenter Arzt,...\n",
            "15022                         Kann super gut mit Kindern!!\n",
            "15023    Durch die Zusammenarbeit mit der Kontaklinsens...\n",
            "Name: message, Length: 15024, dtype: object\n"
          ],
          "name": "stdout"
        }
      ]
    },
    {
      "cell_type": "markdown",
      "metadata": {
        "id": "EnC5mzJHhr1J"
      },
      "source": [
        "# ***Text precessing function: from nltk- stopwords ***"
      ]
    },
    {
      "cell_type": "code",
      "metadata": {
        "id": "TgQctVZBhnfi"
      },
      "source": [
        "def text_process(text):\n",
        "    \n",
        "    text = text.translate(str.maketrans('', '', string.punctuation))\n",
        "    text = [word for word in text.split() if word.lower() not in stopwords.words('german')]\n",
        "    \n",
        "    return \" \".join(text)"
      ],
      "execution_count": 52,
      "outputs": []
    },
    {
      "cell_type": "code",
      "metadata": {
        "id": "2oBqa1qlhwS6",
        "colab": {
          "base_uri": "https://localhost:8080/"
        },
        "outputId": "48751472-731f-4a25-c09d-de2f04d82086"
      },
      "source": [
        "import nltk\n",
        "nltk.download('punkt')\n",
        "nltk.download('stopwords')\n",
        "\n",
        "text_feat = text_feat.apply(text_process)"
      ],
      "execution_count": 53,
      "outputs": [
        {
          "output_type": "stream",
          "text": [
            "[nltk_data] Downloading package punkt to /root/nltk_data...\n",
            "[nltk_data]   Package punkt is already up-to-date!\n",
            "[nltk_data] Downloading package stopwords to /root/nltk_data...\n",
            "[nltk_data]   Package stopwords is already up-to-date!\n"
          ],
          "name": "stdout"
        }
      ]
    },
    {
      "cell_type": "markdown",
      "metadata": {
        "id": "37w4P1DGIxyx"
      },
      "source": [
        "# **TFIDF - TERM FREQUENCY INVERSE DOCUMENT FREQUENCY **"
      ]
    },
    {
      "cell_type": "code",
      "metadata": {
        "id": "4nmSHxznhy8x"
      },
      "source": [
        "vectorizer = TfidfVectorizer(\"German\")"
      ],
      "execution_count": 54,
      "outputs": []
    },
    {
      "cell_type": "code",
      "metadata": {
        "id": "jwlaaZPEh0zh",
        "colab": {
          "base_uri": "https://localhost:8080/"
        },
        "outputId": "ce0ea5d2-fa22-4369-97b3-da7640ff90e8"
      },
      "source": [
        "features = vectorizer.fit_transform(text_feat)\n",
        "print(features)"
      ],
      "execution_count": 55,
      "outputs": [
        {
          "output_type": "stream",
          "text": [
            "  (0, 43284)\t0.3554327422642782\n",
            "  (0, 28272)\t0.14803785578135573\n",
            "  (0, 2429)\t0.15937886563462852\n",
            "  (0, 26603)\t0.13418865776464348\n",
            "  (0, 35642)\t0.1267924972381306\n",
            "  (0, 5759)\t0.15477832348454265\n",
            "  (0, 35866)\t0.10843988417795214\n",
            "  (0, 32532)\t0.1388577975976671\n",
            "  (0, 11444)\t0.18539166470317053\n",
            "  (0, 24238)\t0.29066299999459605\n",
            "  (0, 9367)\t0.07434604804749818\n",
            "  (0, 21712)\t0.37057274835959253\n",
            "  (0, 32375)\t0.2973390287227012\n",
            "  (0, 42363)\t0.2060265150839003\n",
            "  (0, 25627)\t0.3554327422642782\n",
            "  (0, 41847)\t0.17377560483729473\n",
            "  (0, 28055)\t0.19488817713171033\n",
            "  (0, 33244)\t0.1134497688470159\n",
            "  (0, 13990)\t0.37057274835959253\n",
            "  (1, 25083)\t0.11908981206179588\n",
            "  (1, 7787)\t0.12199980574250884\n",
            "  (1, 19682)\t0.2574686411113418\n",
            "  (1, 36678)\t0.2684357702816748\n",
            "  (1, 42042)\t0.174693614529704\n",
            "  (1, 23553)\t0.143205997515669\n",
            "  :\t:\n",
            "  (15021, 18088)\t0.26953696078486156\n",
            "  (15021, 3194)\t0.17802233320686375\n",
            "  (15021, 9367)\t0.14836749989420803\n",
            "  (15022, 21177)\t0.7719589426230827\n",
            "  (15022, 35267)\t0.5263031750749293\n",
            "  (15022, 16939)\t0.35648893224096057\n",
            "  (15023, 22058)\t0.3592141111214376\n",
            "  (15023, 14906)\t0.33412542408265933\n",
            "  (15023, 24837)\t0.30095998382226197\n",
            "  (15023, 36614)\t0.2975102009481706\n",
            "  (15023, 33005)\t0.29436079593386694\n",
            "  (15023, 43351)\t0.2536044530268411\n",
            "  (15023, 43274)\t0.2566650351146725\n",
            "  (15023, 35245)\t0.2119343678683243\n",
            "  (15023, 16566)\t0.22103077511963223\n",
            "  (15023, 3943)\t0.2049250302725566\n",
            "  (15023, 5651)\t0.18924359882873903\n",
            "  (15023, 13917)\t0.17026163868888716\n",
            "  (15023, 31557)\t0.17451260778511196\n",
            "  (15023, 13165)\t0.16309625541032846\n",
            "  (15023, 24099)\t0.12953174468648965\n",
            "  (15023, 21765)\t0.1930755254685245\n",
            "  (15023, 15100)\t0.16567381958841432\n",
            "  (15023, 16939)\t0.08650060152032288\n",
            "  (15023, 41724)\t0.12956350890473997\n"
          ],
          "name": "stdout"
        }
      ]
    },
    {
      "cell_type": "markdown",
      "metadata": {
        "id": "4j2hbn8TiqdT"
      },
      "source": [
        "# **SPLIT THE FEATURES TO TEST & TRAIN SET**"
      ]
    },
    {
      "cell_type": "code",
      "metadata": {
        "id": "oZHtLuFrh3Xi"
      },
      "source": [
        "features_train, features_test, labels_train, labels_test = train_test_split(features, sms['label'], test_size=0.3, random_state=111)"
      ],
      "execution_count": 56,
      "outputs": []
    },
    {
      "cell_type": "markdown",
      "metadata": {
        "id": "ipj5wxBxi9JR"
      },
      "source": [
        " Importing the bunch of classifiers,initialize them  & make a dictionary to itereate through Dict"
      ]
    },
    {
      "cell_type": "code",
      "metadata": {
        "id": "QFTJBFGKi5-h"
      },
      "source": [
        "from sklearn.linear_model import LogisticRegression\n",
        "from sklearn.svm import SVC\n",
        "from sklearn.naive_bayes import MultinomialNB\n",
        "from sklearn.tree import DecisionTreeClassifier\n",
        "from sklearn.neighbors import KNeighborsClassifier\n",
        "from sklearn.ensemble import RandomForestClassifier\n",
        "from sklearn.ensemble import AdaBoostClassifier\n",
        "from sklearn.ensemble import BaggingClassifier\n",
        "from sklearn.ensemble import ExtraTreesClassifier\n",
        "from sklearn.metrics import accuracy_score"
      ],
      "execution_count": 57,
      "outputs": []
    },
    {
      "cell_type": "code",
      "metadata": {
        "id": "unw59QtQi_8r"
      },
      "source": [
        "svc = SVC(kernel='sigmoid', gamma=1.0)\n",
        "knc = KNeighborsClassifier(n_neighbors=49)\n",
        "mnb = MultinomialNB(alpha=0.2)\n",
        "dtc = DecisionTreeClassifier(min_samples_split=7, random_state=111)\n",
        "lrc = LogisticRegression(solver='liblinear', penalty='l1')\n",
        "rfc = RandomForestClassifier(n_estimators=31, random_state=111)\n",
        "abc = AdaBoostClassifier(n_estimators=62, random_state=111)\n",
        "bc = BaggingClassifier(n_estimators=9, random_state=111)\n",
        "etc = ExtraTreesClassifier(n_estimators=9, random_state=111)"
      ],
      "execution_count": 58,
      "outputs": []
    },
    {
      "cell_type": "code",
      "metadata": {
        "id": "MltYtVgujCKq"
      },
      "source": [
        "clfs = {'SVC' : svc,'KN' : knc, 'NB': mnb, 'DT': dtc, 'LR': lrc, 'RF': rfc, 'AdaBoost': abc, 'BgC': bc, 'ETC': etc}"
      ],
      "execution_count": 59,
      "outputs": []
    },
    {
      "cell_type": "markdown",
      "metadata": {
        "id": "-doTKj_RjIvg"
      },
      "source": [
        "# **Creating functions to fit the classifiers and detection of Accuracy scores **"
      ]
    },
    {
      "cell_type": "code",
      "metadata": {
        "id": "TpiBoRogjF_z"
      },
      "source": [
        "def train_classifier(clf, feature_train, labels_train):    \n",
        "    clf.fit(feature_train, labels_train)"
      ],
      "execution_count": 60,
      "outputs": []
    },
    {
      "cell_type": "code",
      "metadata": {
        "id": "GX1GLzicjLvY"
      },
      "source": [
        "def predict_labels(clf, features):\n",
        "    return (clf.predict(features))"
      ],
      "execution_count": 61,
      "outputs": []
    },
    {
      "cell_type": "markdown",
      "metadata": {
        "id": "c0jWzYXmjQ75"
      },
      "source": [
        "Now iterate through classifiers and save the results"
      ]
    },
    {
      "cell_type": "code",
      "metadata": {
        "id": "sVEALM7AjOPa",
        "colab": {
          "base_uri": "https://localhost:8080/"
        },
        "outputId": "a2a728f4-e88a-427a-cc63-ad521b9075b7"
      },
      "source": [
        "pred_scores = []\n",
        "for k,v in clfs.items():\n",
        "    train_classifier(v, features_train, labels_train)\n",
        "    pred = predict_labels(v,features_test)\n",
        "    pred_scores.append((k, [accuracy_score(labels_test,pred)]))\n",
        "pred_scores = dict(pred_scores)\n",
        "print(pred_scores)"
      ],
      "execution_count": 62,
      "outputs": [
        {
          "output_type": "stream",
          "text": [
            "{'SVC': [0.8731144631765749], 'KN': [0.8742236024844721], 'NB': [0.8713398402839396], 'DT': [0.7868234250221828], 'LR': [0.8742236024844721], 'RF': [0.8688997338065662], 'AdaBoost': [0.8649068322981367], 'BgC': [0.8540372670807453], 'ETC': [0.8540372670807453]}\n"
          ],
          "name": "stdout"
        }
      ]
    },
    {
      "cell_type": "code",
      "metadata": {
        "id": "W0VrmU6XjUAB",
        "colab": {
          "base_uri": "https://localhost:8080/",
          "height": 326
        },
        "outputId": "8c3113ff-f3db-4243-f423-1e13efa7b854"
      },
      "source": [
        "df =pd.DataFrame.from_dict(pred_scores,orient='index', columns=['Score'])\n",
        "df"
      ],
      "execution_count": 63,
      "outputs": [
        {
          "output_type": "execute_result",
          "data": {
            "text/html": [
              "<div>\n",
              "<style scoped>\n",
              "    .dataframe tbody tr th:only-of-type {\n",
              "        vertical-align: middle;\n",
              "    }\n",
              "\n",
              "    .dataframe tbody tr th {\n",
              "        vertical-align: top;\n",
              "    }\n",
              "\n",
              "    .dataframe thead th {\n",
              "        text-align: right;\n",
              "    }\n",
              "</style>\n",
              "<table border=\"1\" class=\"dataframe\">\n",
              "  <thead>\n",
              "    <tr style=\"text-align: right;\">\n",
              "      <th></th>\n",
              "      <th>Score</th>\n",
              "    </tr>\n",
              "  </thead>\n",
              "  <tbody>\n",
              "    <tr>\n",
              "      <th>SVC</th>\n",
              "      <td>0.873114</td>\n",
              "    </tr>\n",
              "    <tr>\n",
              "      <th>KN</th>\n",
              "      <td>0.874224</td>\n",
              "    </tr>\n",
              "    <tr>\n",
              "      <th>NB</th>\n",
              "      <td>0.871340</td>\n",
              "    </tr>\n",
              "    <tr>\n",
              "      <th>DT</th>\n",
              "      <td>0.786823</td>\n",
              "    </tr>\n",
              "    <tr>\n",
              "      <th>LR</th>\n",
              "      <td>0.874224</td>\n",
              "    </tr>\n",
              "    <tr>\n",
              "      <th>RF</th>\n",
              "      <td>0.868900</td>\n",
              "    </tr>\n",
              "    <tr>\n",
              "      <th>AdaBoost</th>\n",
              "      <td>0.864907</td>\n",
              "    </tr>\n",
              "    <tr>\n",
              "      <th>BgC</th>\n",
              "      <td>0.854037</td>\n",
              "    </tr>\n",
              "    <tr>\n",
              "      <th>ETC</th>\n",
              "      <td>0.854037</td>\n",
              "    </tr>\n",
              "  </tbody>\n",
              "</table>\n",
              "</div>"
            ],
            "text/plain": [
              "             Score\n",
              "SVC       0.873114\n",
              "KN        0.874224\n",
              "NB        0.871340\n",
              "DT        0.786823\n",
              "LR        0.874224\n",
              "RF        0.868900\n",
              "AdaBoost  0.864907\n",
              "BgC       0.854037\n",
              "ETC       0.854037"
            ]
          },
          "metadata": {
            "tags": []
          },
          "execution_count": 63
        }
      ]
    },
    {
      "cell_type": "markdown",
      "metadata": {
        "id": "kRF_x8qAjV0x"
      },
      "source": [
        "df.plot(kind='bar', ylim=(0.4,1.0), figsize=(11,6), align='center', colormap=\"autumn\" , hatch ='/')\n",
        "plt.xticks(np.arange(9), df.index)\n",
        "plt.ylabel('Accuracy Score')\n",
        "plt.title('Distribution by Classifier')\n",
        "plt.legend(bbox_to_anchor=(1.05, 1), loc=2, borderaxespad=0.)"
      ]
    },
    {
      "cell_type": "markdown",
      "metadata": {
        "id": "ZCoTSwSULkpe"
      },
      "source": [
        ""
      ]
    },
    {
      "cell_type": "code",
      "metadata": {
        "colab": {
          "base_uri": "https://localhost:8080/",
          "height": 483
        },
        "id": "0yh4ZtI3Lk5F",
        "outputId": "1f5f014c-2518-4c1a-8780-df4ebb2a5c2c"
      },
      "source": [
        "df.plot(kind='bar', ylim=(0.4,1.0), figsize=(11,6), align='center', colormap=\"autumn\")\n",
        "plt.xticks(np.arange(9), df.index)\n",
        "plt.ylabel('Accuracy Score')\n",
        "plt.title('Distribution by Classifier')\n",
        "plt.legend(bbox_to_anchor=(1.05, 1), loc=2, borderaxespad=0.)"
      ],
      "execution_count": 64,
      "outputs": [
        {
          "output_type": "execute_result",
          "data": {
            "text/plain": [
              "<matplotlib.legend.Legend at 0x7fc790204910>"
            ]
          },
          "metadata": {
            "tags": []
          },
          "execution_count": 64
        },
        {
          "output_type": "display_data",
          "data": {
            "image/png": "[encoded data removed]",
            "text/plain": [
              "<Figure size 792x432 with 1 Axes>"
            ]
          },
          "metadata": {
            "tags": []
          }
        }
      ]
    },
    {
      "cell_type": "markdown",
      "metadata": {
        "id": "jXpqSgG4jf_p"
      },
      "source": [
        "# **Snowball Stemmer**"
      ]
    },
    {
      "cell_type": "code",
      "metadata": {
        "id": "Fjqq-EGRjZ8A"
      },
      "source": [
        "def stemmer (text):\n",
        "    text = text.split()\n",
        "    words = \"\"\n",
        "    for i in text:\n",
        "            stemmer = SnowballStemmer(\"german\")\n",
        "            words += (stemmer.stem(i))+\" \"\n",
        "    return words"
      ],
      "execution_count": 65,
      "outputs": []
    },
    {
      "cell_type": "code",
      "metadata": {
        "id": "QJTNkSx4jjc5"
      },
      "source": [
        "text_feat = text_feat.apply(stemmer)"
      ],
      "execution_count": 66,
      "outputs": []
    },
    {
      "cell_type": "code",
      "metadata": {
        "id": "g04gKWuujmFK"
      },
      "source": [
        "features = vectorizer.fit_transform(text_feat)"
      ],
      "execution_count": 67,
      "outputs": []
    },
    {
      "cell_type": "code",
      "metadata": {
        "id": "BkwVNfLjjoL5"
      },
      "source": [
        "features_train, features_test, labels_train, labels_test = train_test_split(features, sms['label'], test_size=0.3, random_state=111)"
      ],
      "execution_count": 68,
      "outputs": []
    },
    {
      "cell_type": "code",
      "metadata": {
        "id": "3TnU6Zv8jqvZ",
        "colab": {
          "base_uri": "https://localhost:8080/"
        },
        "outputId": "3d8f9fd3-5e8f-43f6-b3bd-0c755e47adf6"
      },
      "source": [
        "pred_scores = []\n",
        "for k,v in clfs.items():\n",
        "    train_classifier(v, features_train, labels_train)\n",
        "    pred = predict_labels(v,features_test)\n",
        "    pred_scores.append((k, [accuracy_score(labels_test,pred)]))\n",
        "pred_scores=dict(pred_scores)\n",
        "print(pred_scores)"
      ],
      "execution_count": 69,
      "outputs": [
        {
          "output_type": "stream",
          "text": [
            "{'SVC': [0.8728926353149956], 'KN': [0.8742236024844721], 'NB': [0.8708961845607809], 'DT': [0.7861579414374446], 'LR': [0.8742236024844721], 'RF': [0.8695652173913043], 'AdaBoost': [0.8673469387755102], 'BgC': [0.8535936113575865], 'ETC': [0.8586956521739131]}\n"
          ],
          "name": "stdout"
        }
      ]
    },
    {
      "cell_type": "code",
      "metadata": {
        "id": "agIcNhoGjs_L",
        "colab": {
          "base_uri": "https://localhost:8080/",
          "height": 326
        },
        "outputId": "f15f6847-6161-46f2-a940-953472d1df0d"
      },
      "source": [
        "df2 = pd.DataFrame.from_dict(pred_scores,orient='index', columns=['Score2'])\n",
        "df = pd.concat([df,df2],axis=1)\n",
        "df"
      ],
      "execution_count": 70,
      "outputs": [
        {
          "output_type": "execute_result",
          "data": {
            "text/html": [
              "<div>\n",
              "<style scoped>\n",
              "    .dataframe tbody tr th:only-of-type {\n",
              "        vertical-align: middle;\n",
              "    }\n",
              "\n",
              "    .dataframe tbody tr th {\n",
              "        vertical-align: top;\n",
              "    }\n",
              "\n",
              "    .dataframe thead th {\n",
              "        text-align: right;\n",
              "    }\n",
              "</style>\n",
              "<table border=\"1\" class=\"dataframe\">\n",
              "  <thead>\n",
              "    <tr style=\"text-align: right;\">\n",
              "      <th></th>\n",
              "      <th>Score</th>\n",
              "      <th>Score2</th>\n",
              "    </tr>\n",
              "  </thead>\n",
              "  <tbody>\n",
              "    <tr>\n",
              "      <th>SVC</th>\n",
              "      <td>0.873114</td>\n",
              "      <td>0.872893</td>\n",
              "    </tr>\n",
              "    <tr>\n",
              "      <th>KN</th>\n",
              "      <td>0.874224</td>\n",
              "      <td>0.874224</td>\n",
              "    </tr>\n",
              "    <tr>\n",
              "      <th>NB</th>\n",
              "      <td>0.871340</td>\n",
              "      <td>0.870896</td>\n",
              "    </tr>\n",
              "    <tr>\n",
              "      <th>DT</th>\n",
              "      <td>0.786823</td>\n",
              "      <td>0.786158</td>\n",
              "    </tr>\n",
              "    <tr>\n",
              "      <th>LR</th>\n",
              "      <td>0.874224</td>\n",
              "      <td>0.874224</td>\n",
              "    </tr>\n",
              "    <tr>\n",
              "      <th>RF</th>\n",
              "      <td>0.868900</td>\n",
              "      <td>0.869565</td>\n",
              "    </tr>\n",
              "    <tr>\n",
              "      <th>AdaBoost</th>\n",
              "      <td>0.864907</td>\n",
              "      <td>0.867347</td>\n",
              "    </tr>\n",
              "    <tr>\n",
              "      <th>BgC</th>\n",
              "      <td>0.854037</td>\n",
              "      <td>0.853594</td>\n",
              "    </tr>\n",
              "    <tr>\n",
              "      <th>ETC</th>\n",
              "      <td>0.854037</td>\n",
              "      <td>0.858696</td>\n",
              "    </tr>\n",
              "  </tbody>\n",
              "</table>\n",
              "</div>"
            ],
            "text/plain": [
              "             Score    Score2\n",
              "SVC       0.873114  0.872893\n",
              "KN        0.874224  0.874224\n",
              "NB        0.871340  0.870896\n",
              "DT        0.786823  0.786158\n",
              "LR        0.874224  0.874224\n",
              "RF        0.868900  0.869565\n",
              "AdaBoost  0.864907  0.867347\n",
              "BgC       0.854037  0.853594\n",
              "ETC       0.854037  0.858696"
            ]
          },
          "metadata": {
            "tags": []
          },
          "execution_count": 70
        }
      ]
    },
    {
      "cell_type": "code",
      "metadata": {
        "id": "uB104YdBjyjh",
        "colab": {
          "base_uri": "https://localhost:8080/",
          "height": 483
        },
        "outputId": "b3d016f1-85a9-40e8-940b-64d92710ed32"
      },
      "source": [
        "df.plot(kind='bar', ylim=(0.45,0.95), figsize=(11,6), align='center', colormap=\"copper_r\")\n",
        "plt.xticks(np.arange(9), df.index)\n",
        "plt.ylabel('Accuracy Score')\n",
        "plt.title('Distribution by Classifier')\n",
        "plt.legend(bbox_to_anchor=(1.05, 1), loc=2, borderaxespad=0.)"
      ],
      "execution_count": 71,
      "outputs": [
        {
          "output_type": "execute_result",
          "data": {
            "text/plain": [
              "<matplotlib.legend.Legend at 0x7fc79027bc90>"
            ]
          },
          "metadata": {
            "tags": []
          },
          "execution_count": 71
        },
        {
          "output_type": "display_data",
          "data": {
            "image/png": "[encoded data removed]",
            "text/plain": [
              "<Figure size 792x432 with 1 Axes>"
            ]
          },
          "metadata": {
            "tags": []
          }
        }
      ]
    }
  ]
}