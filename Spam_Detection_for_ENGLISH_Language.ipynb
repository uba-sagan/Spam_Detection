{
  "nbformat": 4,
  "nbformat_minor": 0,
  "metadata": {
    "colab": {
      "name": "Spam_Detection for ENGLISH Language.ipynb",
      "provenance": [],
      "collapsed_sections": [],
      "include_colab_link": true
    },
    "kernelspec": {
      "name": "python3",
      "display_name": "Python 3"
    },
    "language_info": {
      "name": "python"
    }
  },
  "cells": [
    {
      "cell_type": "markdown",
      "metadata": {
        "id": "view-in-github",
        "colab_type": "text"
      },
      "source": [
        "<a href=\"https://colab.research.google.com/github/uba-sagan/Spam_Detection/blob/Main/Spam_Detection_for_ENGLISH_Language.ipynb\" target=\"_parent\"><img src=\"https://colab.research.google.com/assets/colab-badge.svg\" alt=\"Open In Colab\"/></a>"
      ]
    },
    {
      "cell_type": "markdown",
      "metadata": {
        "id": "agLVC_zTgk0U"
      },
      "source": [
        "SPAM DETECTION "
      ]
    },
    {
      "cell_type": "code",
      "metadata": {
        "id": "wwCCugZNyOpo"
      },
      "source": [
        "import numpy as np\n",
        "import pandas as pd\n",
        "import matplotlib as mpl\n",
        "import matplotlib.pyplot as plt\n",
        "import seaborn as sns\n",
        "import string\n",
        "from sklearn.feature_extraction.text import TfidfVectorizer\n",
        "from sklearn.model_selection import train_test_split\n",
        "from nltk.stem import SnowballStemmer\n",
        "from nltk.corpus import stopwords\n",
        "%matplotlib inline"
      ],
      "execution_count": null,
      "outputs": []
    },
    {
      "cell_type": "code",
      "metadata": {
        "colab": {
          "base_uri": "https://localhost:8080/",
          "height": 203
        },
        "id": "bveVOmZ3gx0M",
        "outputId": "eae16bdc-8134-492e-fa01-fe8e73a0d4d1"
      },
      "source": [
        "cols = [\"v1\",\"v2\"]\n",
        "sms = pd.read_csv('spam.csv', encoding='latin-1',usecols=cols)\n",
        "sms.head()"
      ],
      "execution_count": null,
      "outputs": [
        {
          "output_type": "execute_result",
          "data": {
            "text/html": [
              "<div>\n",
              "<style scoped>\n",
              "    .dataframe tbody tr th:only-of-type {\n",
              "        vertical-align: middle;\n",
              "    }\n",
              "\n",
              "    .dataframe tbody tr th {\n",
              "        vertical-align: top;\n",
              "    }\n",
              "\n",
              "    .dataframe thead th {\n",
              "        text-align: right;\n",
              "    }\n",
              "</style>\n",
              "<table border=\"1\" class=\"dataframe\">\n",
              "  <thead>\n",
              "    <tr style=\"text-align: right;\">\n",
              "      <th></th>\n",
              "      <th>v1</th>\n",
              "      <th>v2</th>\n",
              "    </tr>\n",
              "  </thead>\n",
              "  <tbody>\n",
              "    <tr>\n",
              "      <th>0</th>\n",
              "      <td>ham</td>\n",
              "      <td>Go until jurong point, crazy.. Available only ...</td>\n",
              "    </tr>\n",
              "    <tr>\n",
              "      <th>1</th>\n",
              "      <td>ham</td>\n",
              "      <td>Ok yar... Joking , were r  u only.</td>\n",
              "    </tr>\n",
              "    <tr>\n",
              "      <th>2</th>\n",
              "      <td>spam</td>\n",
              "      <td>Free entry in 2 a wkly comp to win FA Cup fina...</td>\n",
              "    </tr>\n",
              "    <tr>\n",
              "      <th>3</th>\n",
              "      <td>ham</td>\n",
              "      <td>U dun say so early hor... U c already then say...</td>\n",
              "    </tr>\n",
              "    <tr>\n",
              "      <th>4</th>\n",
              "      <td>ham</td>\n",
              "      <td>Nah I don't think he goes to usf, he lives aro...</td>\n",
              "    </tr>\n",
              "  </tbody>\n",
              "</table>\n",
              "</div>"
            ],
            "text/plain": [
              "     v1                                                 v2\n",
              "0   ham  Go until jurong point, crazy.. Available only ...\n",
              "1   ham                 Ok yar... Joking , were r  u only.\n",
              "2  spam  Free entry in 2 a wkly comp to win FA Cup fina...\n",
              "3   ham  U dun say so early hor... U c already then say...\n",
              "4   ham  Nah I don't think he goes to usf, he lives aro..."
            ]
          },
          "metadata": {
            "tags": []
          },
          "execution_count": 134
        }
      ]
    },
    {
      "cell_type": "code",
      "metadata": {
        "colab": {
          "base_uri": "https://localhost:8080/",
          "height": 203
        },
        "id": "DSyb6DgX6EdU",
        "outputId": "58ad9864-9d66-482a-eba8-aae08c8b2378"
      },
      "source": [
        "sms.tail()"
      ],
      "execution_count": null,
      "outputs": [
        {
          "output_type": "execute_result",
          "data": {
            "text/html": [
              "<div>\n",
              "<style scoped>\n",
              "    .dataframe tbody tr th:only-of-type {\n",
              "        vertical-align: middle;\n",
              "    }\n",
              "\n",
              "    .dataframe tbody tr th {\n",
              "        vertical-align: top;\n",
              "    }\n",
              "\n",
              "    .dataframe thead th {\n",
              "        text-align: right;\n",
              "    }\n",
              "</style>\n",
              "<table border=\"1\" class=\"dataframe\">\n",
              "  <thead>\n",
              "    <tr style=\"text-align: right;\">\n",
              "      <th></th>\n",
              "      <th>v1</th>\n",
              "      <th>v2</th>\n",
              "    </tr>\n",
              "  </thead>\n",
              "  <tbody>\n",
              "    <tr>\n",
              "      <th>5574</th>\n",
              "      <td>ham</td>\n",
              "      <td>This birthday, I wish you abundant happiness a...</td>\n",
              "    </tr>\n",
              "    <tr>\n",
              "      <th>5575</th>\n",
              "      <td>ham</td>\n",
              "      <td>One year! You made it! Happy first wedding ann...</td>\n",
              "    </tr>\n",
              "    <tr>\n",
              "      <th>5576</th>\n",
              "      <td>ham</td>\n",
              "      <td>Making the Best of What's Around</td>\n",
              "    </tr>\n",
              "    <tr>\n",
              "      <th>5577</th>\n",
              "      <td>ham</td>\n",
              "      <td>It's getting late for the party, be quick</td>\n",
              "    </tr>\n",
              "    <tr>\n",
              "      <th>5578</th>\n",
              "      <td>ham</td>\n",
              "      <td>Iam waiting near the mall , come quickly.</td>\n",
              "    </tr>\n",
              "  </tbody>\n",
              "</table>\n",
              "</div>"
            ],
            "text/plain": [
              "       v1                                                 v2\n",
              "5574  ham  This birthday, I wish you abundant happiness a...\n",
              "5575  ham  One year! You made it! Happy first wedding ann...\n",
              "5576  ham                   Making the Best of What's Around\n",
              "5577  ham          It's getting late for the party, be quick\n",
              "5578  ham          Iam waiting near the mall , come quickly."
            ]
          },
          "metadata": {
            "tags": []
          },
          "execution_count": 135
        }
      ]
    },
    {
      "cell_type": "code",
      "metadata": {
        "id": "HwgYrh3mg32Z"
      },
      "source": [
        "sms = sms.rename(columns = {'v1':'label','v2':'message'})"
      ],
      "execution_count": null,
      "outputs": []
    },
    {
      "cell_type": "code",
      "metadata": {
        "colab": {
          "base_uri": "https://localhost:8080/",
          "height": 172
        },
        "id": "hCPksS4RhDOa",
        "outputId": "8f649158-c4b6-42cf-878e-9f57025b04f0"
      },
      "source": [
        "sms.groupby('label').describe()"
      ],
      "execution_count": null,
      "outputs": [
        {
          "output_type": "execute_result",
          "data": {
            "text/html": [
              "<div>\n",
              "<style scoped>\n",
              "    .dataframe tbody tr th:only-of-type {\n",
              "        vertical-align: middle;\n",
              "    }\n",
              "\n",
              "    .dataframe tbody tr th {\n",
              "        vertical-align: top;\n",
              "    }\n",
              "\n",
              "    .dataframe thead tr th {\n",
              "        text-align: left;\n",
              "    }\n",
              "\n",
              "    .dataframe thead tr:last-of-type th {\n",
              "        text-align: right;\n",
              "    }\n",
              "</style>\n",
              "<table border=\"1\" class=\"dataframe\">\n",
              "  <thead>\n",
              "    <tr>\n",
              "      <th></th>\n",
              "      <th colspan=\"4\" halign=\"left\">message</th>\n",
              "    </tr>\n",
              "    <tr>\n",
              "      <th></th>\n",
              "      <th>count</th>\n",
              "      <th>unique</th>\n",
              "      <th>top</th>\n",
              "      <th>freq</th>\n",
              "    </tr>\n",
              "    <tr>\n",
              "      <th>label</th>\n",
              "      <th></th>\n",
              "      <th></th>\n",
              "      <th></th>\n",
              "      <th></th>\n",
              "    </tr>\n",
              "  </thead>\n",
              "  <tbody>\n",
              "    <tr>\n",
              "      <th>ham</th>\n",
              "      <td>4831</td>\n",
              "      <td>4522</td>\n",
              "      <td>Sorry, I'll call later</td>\n",
              "      <td>30</td>\n",
              "    </tr>\n",
              "    <tr>\n",
              "      <th>spam</th>\n",
              "      <td>748</td>\n",
              "      <td>656</td>\n",
              "      <td>Please call our customer service representativ...</td>\n",
              "      <td>4</td>\n",
              "    </tr>\n",
              "  </tbody>\n",
              "</table>\n",
              "</div>"
            ],
            "text/plain": [
              "      message                                                               \n",
              "        count unique                                                top freq\n",
              "label                                                                       \n",
              "ham      4831   4522                             Sorry, I'll call later   30\n",
              "spam      748    656  Please call our customer service representativ...    4"
            ]
          },
          "metadata": {
            "tags": []
          },
          "execution_count": 137
        }
      ]
    },
    {
      "cell_type": "code",
      "metadata": {
        "colab": {
          "base_uri": "https://localhost:8080/",
          "height": 203
        },
        "id": "0_3fsIMJg7xE",
        "outputId": "2bce8e84-075a-41f3-f918-f6440418b79a"
      },
      "source": [
        "sms['length'] = sms['message'].apply(len)\n",
        "sms.head()"
      ],
      "execution_count": null,
      "outputs": [
        {
          "output_type": "execute_result",
          "data": {
            "text/html": [
              "<div>\n",
              "<style scoped>\n",
              "    .dataframe tbody tr th:only-of-type {\n",
              "        vertical-align: middle;\n",
              "    }\n",
              "\n",
              "    .dataframe tbody tr th {\n",
              "        vertical-align: top;\n",
              "    }\n",
              "\n",
              "    .dataframe thead th {\n",
              "        text-align: right;\n",
              "    }\n",
              "</style>\n",
              "<table border=\"1\" class=\"dataframe\">\n",
              "  <thead>\n",
              "    <tr style=\"text-align: right;\">\n",
              "      <th></th>\n",
              "      <th>label</th>\n",
              "      <th>message</th>\n",
              "      <th>length</th>\n",
              "    </tr>\n",
              "  </thead>\n",
              "  <tbody>\n",
              "    <tr>\n",
              "      <th>0</th>\n",
              "      <td>ham</td>\n",
              "      <td>Go until jurong point, crazy.. Available only ...</td>\n",
              "      <td>111</td>\n",
              "    </tr>\n",
              "    <tr>\n",
              "      <th>1</th>\n",
              "      <td>ham</td>\n",
              "      <td>Ok yar... Joking , were r  u only.</td>\n",
              "      <td>34</td>\n",
              "    </tr>\n",
              "    <tr>\n",
              "      <th>2</th>\n",
              "      <td>spam</td>\n",
              "      <td>Free entry in 2 a wkly comp to win FA Cup fina...</td>\n",
              "      <td>155</td>\n",
              "    </tr>\n",
              "    <tr>\n",
              "      <th>3</th>\n",
              "      <td>ham</td>\n",
              "      <td>U dun say so early hor... U c already then say...</td>\n",
              "      <td>49</td>\n",
              "    </tr>\n",
              "    <tr>\n",
              "      <th>4</th>\n",
              "      <td>ham</td>\n",
              "      <td>Nah I don't think he goes to usf, he lives aro...</td>\n",
              "      <td>61</td>\n",
              "    </tr>\n",
              "  </tbody>\n",
              "</table>\n",
              "</div>"
            ],
            "text/plain": [
              "  label                                            message  length\n",
              "0   ham  Go until jurong point, crazy.. Available only ...     111\n",
              "1   ham                 Ok yar... Joking , were r  u only.      34\n",
              "2  spam  Free entry in 2 a wkly comp to win FA Cup fina...     155\n",
              "3   ham  U dun say so early hor... U c already then say...      49\n",
              "4   ham  Nah I don't think he goes to usf, he lives aro...      61"
            ]
          },
          "metadata": {
            "tags": []
          },
          "execution_count": 138
        }
      ]
    },
    {
      "cell_type": "code",
      "metadata": {
        "colab": {
          "base_uri": "https://localhost:8080/",
          "height": 397
        },
        "id": "t3CU2jKMhSnK",
        "outputId": "ea28ad9b-f2cd-4b03-f62d-8c2490f35ab0"
      },
      "source": [
        "mpl.rcParams['patch.force_edgecolor'] = True\n",
        "plt.style.use('fivethirtyeight')\n",
        "sms.hist(column='length', by='label', bins=50,figsize=(11,5))"
      ],
      "execution_count": null,
      "outputs": [
        {
          "output_type": "execute_result",
          "data": {
            "text/plain": [
              "array([<matplotlib.axes._subplots.AxesSubplot object at 0x7f7cd79a7a90>,\n",
              "       <matplotlib.axes._subplots.AxesSubplot object at 0x7f7cd7903250>],\n",
              "      dtype=object)"
            ]
          },
          "metadata": {
            "tags": []
          },
          "execution_count": 164
        },
        {
          "output_type": "display_data",
          "data": {
            "image/png": "[encoded data removed]",
            "text/plain": [
              "<Figure size 792x360 with 2 Axes>"
            ]
          },
          "metadata": {
            "tags": []
          }
        }
      ]
    },
    {
      "cell_type": "markdown",
      "metadata": {
        "id": "vZsW-ReBhihh"
      },
      "source": [
        "Text processing and vectorizing our messages"
      ]
    },
    {
      "cell_type": "code",
      "metadata": {
        "id": "2yHyA4FXhVay",
        "colab": {
          "base_uri": "https://localhost:8080/"
        },
        "outputId": "af2cfe1f-1c47-48e2-f962-7e352dcd1938"
      },
      "source": [
        "text_feat = sms['message'].copy()\n",
        "print(text_feat)"
      ],
      "execution_count": null,
      "outputs": [
        {
          "output_type": "stream",
          "text": [
            "0       Go until jurong point, crazy.. Available only ...\n",
            "1                      Ok yar... Joking , were r  u only.\n",
            "2       Free entry in 2 a wkly comp to win FA Cup fina...\n",
            "3       U dun say so early hor... U c already then say...\n",
            "4       Nah I don't think he goes to usf, he lives aro...\n",
            "                              ...                        \n",
            "5574    This birthday, I wish you abundant happiness a...\n",
            "5575    One year! You made it! Happy first wedding ann...\n",
            "5576                     Making the Best of What's Around\n",
            "5577            It's getting late for the party, be quick\n",
            "5578            Iam waiting near the mall , come quickly.\n",
            "Name: message, Length: 5579, dtype: object\n"
          ],
          "name": "stdout"
        }
      ]
    },
    {
      "cell_type": "markdown",
      "metadata": {
        "id": "EnC5mzJHhr1J"
      },
      "source": [
        "# ***Text precessing function: from nltk- stopwords ***"
      ]
    },
    {
      "cell_type": "code",
      "metadata": {
        "id": "TgQctVZBhnfi"
      },
      "source": [
        "def text_process(text):\n",
        "    \n",
        "    text = text.translate(str.maketrans('', '', string.punctuation))\n",
        "    text = [word for word in text.split() if word.lower() not in stopwords.words('english')]\n",
        "    \n",
        "    return \" \".join(text)"
      ],
      "execution_count": null,
      "outputs": []
    },
    {
      "cell_type": "code",
      "metadata": {
        "colab": {
          "base_uri": "https://localhost:8080/"
        },
        "id": "2oBqa1qlhwS6",
        "outputId": "7b508680-71ba-4cf3-cb7d-53e78e885748"
      },
      "source": [
        "import nltk\n",
        "nltk.download('stopwords')\n",
        "\n",
        "text_feat = text_feat.apply(text_process)"
      ],
      "execution_count": null,
      "outputs": [
        {
          "output_type": "stream",
          "text": [
            "[nltk_data] Downloading package stopwords to /root/nltk_data...\n",
            "[nltk_data]   Package stopwords is already up-to-date!\n"
          ],
          "name": "stdout"
        }
      ]
    },
    {
      "cell_type": "markdown",
      "metadata": {
        "id": "37w4P1DGIxyx"
      },
      "source": [
        "# **TFIDF - TERM FREQUENCY INVERSE DOCUMENT FREQUENCY **"
      ]
    },
    {
      "cell_type": "code",
      "metadata": {
        "id": "4nmSHxznhy8x"
      },
      "source": [
        "vectorizer = TfidfVectorizer(\"english\")"
      ],
      "execution_count": null,
      "outputs": []
    },
    {
      "cell_type": "code",
      "metadata": {
        "id": "jwlaaZPEh0zh",
        "colab": {
          "base_uri": "https://localhost:8080/"
        },
        "outputId": "72e8ca67-a38e-441b-8695-e24682178e4f"
      },
      "source": [
        "features = vectorizer.fit_transform(text_feat)\n",
        "print(features)"
      ],
      "execution_count": null,
      "outputs": [
        {
          "output_type": "stream",
          "text": [
            "  (0, 8877)\t0.19699097929868728\n",
            "  (0, 1169)\t0.3454570796557584\n",
            "  (0, 3824)\t0.16231509561705115\n",
            "  (0, 2199)\t0.29185106999980037\n",
            "  (0, 1863)\t0.32977832692474257\n",
            "  (0, 4814)\t0.29185106999980037\n",
            "  (0, 9113)\t0.2382450603438423\n",
            "  (0, 3864)\t0.19193160005782117\n",
            "  (0, 1865)\t0.29185106999980037\n",
            "  (0, 1402)\t0.2627037982155197\n",
            "  (0, 2483)\t0.26754367698725645\n",
            "  (0, 6386)\t0.27021153212599774\n",
            "  (0, 4657)\t0.3454570796557584\n",
            "  (0, 3767)\t0.15708808129911306\n",
            "  (1, 4625)\t0.6923824734501838\n",
            "  (1, 9257)\t0.6236817723743181\n",
            "  (1, 5951)\t0.3628051229889604\n",
            "  (2, 71)\t0.2330198935478199\n",
            "  (2, 1255)\t0.16834289602143904\n",
            "  (2, 6727)\t0.2330198935478199\n",
            "  (2, 8527)\t0.12523564095886824\n",
            "  (2, 6675)\t0.2330198935478199\n",
            "  (2, 6783)\t0.16589442001819796\n",
            "  (2, 865)\t0.2190625879776817\n",
            "  (2, 8159)\t0.12255146879481217\n",
            "  :\t:\n",
            "  (5575, 4071)\t0.3713193904790589\n",
            "  (5575, 8919)\t0.33323518945807346\n",
            "  (5575, 1198)\t0.3425098045656659\n",
            "  (5575, 5243)\t0.46564297167173463\n",
            "  (5575, 1548)\t0.2756160176312873\n",
            "  (5575, 2454)\t0.2875730761240409\n",
            "  (5575, 5193)\t0.2601725555476935\n",
            "  (5575, 5979)\t0.18918725989110807\n",
            "  (5575, 9267)\t0.2375318166103018\n",
            "  (5575, 3985)\t0.2140354262236331\n",
            "  (5575, 3433)\t0.22926688953616595\n",
            "  (5576, 8976)\t0.5089012541005445\n",
            "  (5576, 5221)\t0.5371032529421965\n",
            "  (5576, 1602)\t0.4859947034903409\n",
            "  (5576, 1306)\t0.46513305347302447\n",
            "  (5577, 6165)\t0.534517644554516\n",
            "  (5577, 4863)\t0.4368244438725865\n",
            "  (5577, 6676)\t0.5711695571891036\n",
            "  (5577, 3726)\t0.44411781076162776\n",
            "  (5578, 4296)\t0.46567004788006805\n",
            "  (5578, 5682)\t0.42541091056173086\n",
            "  (5578, 6677)\t0.46567004788006805\n",
            "  (5578, 5225)\t0.46567004788006805\n",
            "  (5578, 8830)\t0.3274620636942619\n",
            "  (5578, 2297)\t0.24748408744454575\n"
          ],
          "name": "stdout"
        }
      ]
    },
    {
      "cell_type": "markdown",
      "metadata": {
        "id": "DwwbmZEGh5-p"
      },
      "source": [
        "### **Classifiers & predictions**"
      ]
    },
    {
      "cell_type": "markdown",
      "metadata": {
        "id": "4j2hbn8TiqdT"
      },
      "source": [
        "# **SPLIT THE FEATURES TO TEST & TRAIN SET**"
      ]
    },
    {
      "cell_type": "code",
      "metadata": {
        "id": "oZHtLuFrh3Xi"
      },
      "source": [
        "features_train, features_test, labels_train, labels_test = train_test_split(features, sms['label'], test_size=0.3, random_state=111)"
      ],
      "execution_count": null,
      "outputs": []
    },
    {
      "cell_type": "markdown",
      "metadata": {
        "id": "ipj5wxBxi9JR"
      },
      "source": [
        " Importing the bunch of classifiers,initialize them  & make a dictionary to itereate through Dict"
      ]
    },
    {
      "cell_type": "code",
      "metadata": {
        "id": "QFTJBFGKi5-h"
      },
      "source": [
        "from sklearn.linear_model import LogisticRegression\n",
        "from sklearn.svm import SVC\n",
        "from sklearn.naive_bayes import MultinomialNB\n",
        "from sklearn.tree import DecisionTreeClassifier\n",
        "from sklearn.neighbors import KNeighborsClassifier\n",
        "from sklearn.ensemble import RandomForestClassifier\n",
        "from sklearn.ensemble import AdaBoostClassifier\n",
        "from sklearn.ensemble import BaggingClassifier\n",
        "from sklearn.ensemble import ExtraTreesClassifier\n",
        "from sklearn.metrics import accuracy_score"
      ],
      "execution_count": null,
      "outputs": []
    },
    {
      "cell_type": "code",
      "metadata": {
        "id": "unw59QtQi_8r"
      },
      "source": [
        "svc = SVC(kernel='sigmoid', gamma=1.0)\n",
        "knc = KNeighborsClassifier(n_neighbors=49)\n",
        "mnb = MultinomialNB(alpha=0.2)\n",
        "dtc = DecisionTreeClassifier(min_samples_split=7, random_state=111)\n",
        "lrc = LogisticRegression(solver='liblinear', penalty='l1')\n",
        "rfc = RandomForestClassifier(n_estimators=31, random_state=111)\n",
        "abc = AdaBoostClassifier(n_estimators=62, random_state=111)\n",
        "bc = BaggingClassifier(n_estimators=9, random_state=111)\n",
        "etc = ExtraTreesClassifier(n_estimators=9, random_state=111)"
      ],
      "execution_count": null,
      "outputs": []
    },
    {
      "cell_type": "code",
      "metadata": {
        "id": "MltYtVgujCKq"
      },
      "source": [
        "clfs = {'SVC' : svc,'KN' : knc, 'NB': mnb, 'DT': dtc, 'LR': lrc, 'RF': rfc, 'AdaBoost': abc, 'BgC': bc, 'ETC': etc}"
      ],
      "execution_count": null,
      "outputs": []
    },
    {
      "cell_type": "markdown",
      "metadata": {
        "id": "-doTKj_RjIvg"
      },
      "source": [
        "# **Creating functions to fit the classifiers and detection of Accuracy scores **"
      ]
    },
    {
      "cell_type": "code",
      "metadata": {
        "id": "TpiBoRogjF_z"
      },
      "source": [
        "def train_classifier(clf, feature_train, labels_train):    \n",
        "    clf.fit(feature_train, labels_train)"
      ],
      "execution_count": null,
      "outputs": []
    },
    {
      "cell_type": "code",
      "metadata": {
        "id": "GX1GLzicjLvY"
      },
      "source": [
        "def predict_labels(clf, features):\n",
        "    return (clf.predict(features))"
      ],
      "execution_count": null,
      "outputs": []
    },
    {
      "cell_type": "markdown",
      "metadata": {
        "id": "c0jWzYXmjQ75"
      },
      "source": [
        "Now iterate through classifiers and save the results"
      ]
    },
    {
      "cell_type": "code",
      "metadata": {
        "id": "sVEALM7AjOPa",
        "colab": {
          "base_uri": "https://localhost:8080/"
        },
        "outputId": "0b69106c-559a-4c51-fb35-5703ea5197f3"
      },
      "source": [
        "pred_scores = []\n",
        "for k,v in clfs.items():\n",
        "    train_classifier(v, features_train, labels_train)\n",
        "    pred = predict_labels(v,features_test)\n",
        "    pred_scores.append((k, [accuracy_score(labels_test,pred)]))\n",
        "pred_scores = dict(pred_scores)\n",
        "print(pred_scores)"
      ],
      "execution_count": null,
      "outputs": [
        {
          "output_type": "stream",
          "text": [
            "{'SVC': [0.9778972520908005], 'KN': [0.9175627240143369], 'NB': [0.9790919952210275], 'DT': [0.9522102747909199], 'LR': [0.9474313022700119], 'RF': [0.978494623655914], 'AdaBoost': [0.9695340501792115], 'BgC': [0.9671445639187575], 'ETC': [0.9743130227001194]}\n"
          ],
          "name": "stdout"
        }
      ]
    },
    {
      "cell_type": "code",
      "metadata": {
        "colab": {
          "base_uri": "https://localhost:8080/",
          "height": 326
        },
        "id": "W0VrmU6XjUAB",
        "outputId": "c3edaab3-6c90-4835-8dce-d4bdcc3852ab"
      },
      "source": [
        "df =pd.DataFrame.from_dict(pred_scores,orient='index', columns=['Score'])\n",
        "df"
      ],
      "execution_count": null,
      "outputs": [
        {
          "output_type": "execute_result",
          "data": {
            "text/html": [
              "<div>\n",
              "<style scoped>\n",
              "    .dataframe tbody tr th:only-of-type {\n",
              "        vertical-align: middle;\n",
              "    }\n",
              "\n",
              "    .dataframe tbody tr th {\n",
              "        vertical-align: top;\n",
              "    }\n",
              "\n",
              "    .dataframe thead th {\n",
              "        text-align: right;\n",
              "    }\n",
              "</style>\n",
              "<table border=\"1\" class=\"dataframe\">\n",
              "  <thead>\n",
              "    <tr style=\"text-align: right;\">\n",
              "      <th></th>\n",
              "      <th>Score</th>\n",
              "    </tr>\n",
              "  </thead>\n",
              "  <tbody>\n",
              "    <tr>\n",
              "      <th>SVC</th>\n",
              "      <td>0.977897</td>\n",
              "    </tr>\n",
              "    <tr>\n",
              "      <th>KN</th>\n",
              "      <td>0.917563</td>\n",
              "    </tr>\n",
              "    <tr>\n",
              "      <th>NB</th>\n",
              "      <td>0.979092</td>\n",
              "    </tr>\n",
              "    <tr>\n",
              "      <th>DT</th>\n",
              "      <td>0.952210</td>\n",
              "    </tr>\n",
              "    <tr>\n",
              "      <th>LR</th>\n",
              "      <td>0.947431</td>\n",
              "    </tr>\n",
              "    <tr>\n",
              "      <th>RF</th>\n",
              "      <td>0.978495</td>\n",
              "    </tr>\n",
              "    <tr>\n",
              "      <th>AdaBoost</th>\n",
              "      <td>0.969534</td>\n",
              "    </tr>\n",
              "    <tr>\n",
              "      <th>BgC</th>\n",
              "      <td>0.967145</td>\n",
              "    </tr>\n",
              "    <tr>\n",
              "      <th>ETC</th>\n",
              "      <td>0.974313</td>\n",
              "    </tr>\n",
              "  </tbody>\n",
              "</table>\n",
              "</div>"
            ],
            "text/plain": [
              "             Score\n",
              "SVC       0.977897\n",
              "KN        0.917563\n",
              "NB        0.979092\n",
              "DT        0.952210\n",
              "LR        0.947431\n",
              "RF        0.978495\n",
              "AdaBoost  0.969534\n",
              "BgC       0.967145\n",
              "ETC       0.974313"
            ]
          },
          "metadata": {
            "tags": []
          },
          "execution_count": 152
        }
      ]
    },
    {
      "cell_type": "code",
      "metadata": {
        "id": "kRF_x8qAjV0x",
        "colab": {
          "base_uri": "https://localhost:8080/",
          "height": 436
        },
        "outputId": "b9962034-1826-48f9-ce76-e85f1dd7921f"
      },
      "source": [
        "df.plot(kind='bar', ylim=(0.4,1.0), figsize=(11,6), align='center', colormap=\"gist_stern_r\",hatch = '/')\n",
        "plt.xticks(np.arange(9), df.index)\n",
        "plt.ylabel('Accuracy Score')\n",
        "plt.title('Distribution by Classifier')\n",
        "plt.legend(bbox_to_anchor=(1.05, 1), loc=2, borderaxespad=0.)"
      ],
      "execution_count": null,
      "outputs": [
        {
          "output_type": "execute_result",
          "data": {
            "text/plain": [
              "<matplotlib.legend.Legend at 0x7f7cd7e8a790>"
            ]
          },
          "metadata": {
            "tags": []
          },
          "execution_count": 153
        },
        {
          "output_type": "display_data",
          "data": {
            "image/png": "[encoded data removed]",
            "text/plain": [
              "<Figure size 792x432 with 1 Axes>"
            ]
          },
          "metadata": {
            "tags": []
          }
        }
      ]
    },
    {
      "cell_type": "markdown",
      "metadata": {
        "id": "jXpqSgG4jf_p"
      },
      "source": [
        "# **Snowball Stemmer**"
      ]
    },
    {
      "cell_type": "code",
      "metadata": {
        "id": "Fjqq-EGRjZ8A"
      },
      "source": [
        "def stemmer (text):\n",
        "    text = text.split()\n",
        "    words = \"\"\n",
        "    for i in text:\n",
        "            stemmer = SnowballStemmer(\"english\")\n",
        "            words += (stemmer.stem(i))+\" \"\n",
        "    return words"
      ],
      "execution_count": null,
      "outputs": []
    },
    {
      "cell_type": "code",
      "metadata": {
        "id": "QJTNkSx4jjc5"
      },
      "source": [
        "text_feat = text_feat.apply(stemmer)"
      ],
      "execution_count": null,
      "outputs": []
    },
    {
      "cell_type": "code",
      "metadata": {
        "id": "g04gKWuujmFK"
      },
      "source": [
        "features = vectorizer.fit_transform(text_feat)"
      ],
      "execution_count": null,
      "outputs": []
    },
    {
      "cell_type": "code",
      "metadata": {
        "id": "BkwVNfLjjoL5"
      },
      "source": [
        "features_train, features_test, labels_train, labels_test = train_test_split(features, sms['label'], test_size=0.3, random_state=111)"
      ],
      "execution_count": null,
      "outputs": []
    },
    {
      "cell_type": "code",
      "metadata": {
        "id": "3TnU6Zv8jqvZ",
        "colab": {
          "base_uri": "https://localhost:8080/"
        },
        "outputId": "7fc14d47-84a9-45cf-e56a-d1e61c4f20da"
      },
      "source": [
        "pred_scores = []\n",
        "for k,v in clfs.items():\n",
        "    train_classifier(v, features_train, labels_train)\n",
        "    pred = predict_labels(v,features_test)\n",
        "    pred_scores.append((k, [accuracy_score(labels_test,pred)]))\n",
        "pred_scores=dict(pred_scores)\n",
        "print(pred_scores)"
      ],
      "execution_count": null,
      "outputs": [
        {
          "output_type": "stream",
          "text": [
            "{'SVC': [0.9778972520908005], 'KN': [0.9193548387096774], 'NB': [0.9778972520908005], 'DT': [0.9563918757467145], 'LR': [0.9528076463560334], 'RF': [0.97610513739546], 'AdaBoost': [0.9683393070489845], 'BgC': [0.961768219832736], 'ETC': [0.9695340501792115]}\n"
          ],
          "name": "stdout"
        }
      ]
    },
    {
      "cell_type": "code",
      "metadata": {
        "id": "agIcNhoGjs_L",
        "colab": {
          "base_uri": "https://localhost:8080/",
          "height": 326
        },
        "outputId": "490b7da8-f53a-4474-b2dc-63dfca67975c"
      },
      "source": [
        "df2 = pd.DataFrame.from_dict(pred_scores,orient='index', columns=['Score2'])\n",
        "df = pd.concat([df,df2],axis=1)\n",
        "df"
      ],
      "execution_count": null,
      "outputs": [
        {
          "output_type": "execute_result",
          "data": {
            "text/html": [
              "<div>\n",
              "<style scoped>\n",
              "    .dataframe tbody tr th:only-of-type {\n",
              "        vertical-align: middle;\n",
              "    }\n",
              "\n",
              "    .dataframe tbody tr th {\n",
              "        vertical-align: top;\n",
              "    }\n",
              "\n",
              "    .dataframe thead th {\n",
              "        text-align: right;\n",
              "    }\n",
              "</style>\n",
              "<table border=\"1\" class=\"dataframe\">\n",
              "  <thead>\n",
              "    <tr style=\"text-align: right;\">\n",
              "      <th></th>\n",
              "      <th>Score</th>\n",
              "      <th>Score2</th>\n",
              "    </tr>\n",
              "  </thead>\n",
              "  <tbody>\n",
              "    <tr>\n",
              "      <th>SVC</th>\n",
              "      <td>0.977897</td>\n",
              "      <td>0.977897</td>\n",
              "    </tr>\n",
              "    <tr>\n",
              "      <th>KN</th>\n",
              "      <td>0.917563</td>\n",
              "      <td>0.919355</td>\n",
              "    </tr>\n",
              "    <tr>\n",
              "      <th>NB</th>\n",
              "      <td>0.979092</td>\n",
              "      <td>0.977897</td>\n",
              "    </tr>\n",
              "    <tr>\n",
              "      <th>DT</th>\n",
              "      <td>0.952210</td>\n",
              "      <td>0.956392</td>\n",
              "    </tr>\n",
              "    <tr>\n",
              "      <th>LR</th>\n",
              "      <td>0.947431</td>\n",
              "      <td>0.952808</td>\n",
              "    </tr>\n",
              "    <tr>\n",
              "      <th>RF</th>\n",
              "      <td>0.978495</td>\n",
              "      <td>0.976105</td>\n",
              "    </tr>\n",
              "    <tr>\n",
              "      <th>AdaBoost</th>\n",
              "      <td>0.969534</td>\n",
              "      <td>0.968339</td>\n",
              "    </tr>\n",
              "    <tr>\n",
              "      <th>BgC</th>\n",
              "      <td>0.967145</td>\n",
              "      <td>0.961768</td>\n",
              "    </tr>\n",
              "    <tr>\n",
              "      <th>ETC</th>\n",
              "      <td>0.974313</td>\n",
              "      <td>0.969534</td>\n",
              "    </tr>\n",
              "  </tbody>\n",
              "</table>\n",
              "</div>"
            ],
            "text/plain": [
              "             Score    Score2\n",
              "SVC       0.977897  0.977897\n",
              "KN        0.917563  0.919355\n",
              "NB        0.979092  0.977897\n",
              "DT        0.952210  0.956392\n",
              "LR        0.947431  0.952808\n",
              "RF        0.978495  0.976105\n",
              "AdaBoost  0.969534  0.968339\n",
              "BgC       0.967145  0.961768\n",
              "ETC       0.974313  0.969534"
            ]
          },
          "metadata": {
            "tags": []
          },
          "execution_count": 159
        }
      ]
    },
    {
      "cell_type": "code",
      "metadata": {
        "id": "uB104YdBjyjh",
        "colab": {
          "base_uri": "https://localhost:8080/",
          "height": 436
        },
        "outputId": "cf27d3d1-e87a-4ee4-a8ae-acd0fccedbe0"
      },
      "source": [
        "df.plot(kind='bar', ylim=(0.85,1.0), figsize=(11,6), align='center', colormap=\"coolwarm\", hatch='//')\n",
        "plt.xticks(np.arange(9), df.index)\n",
        "plt.ylabel('Accuracy Score')\n",
        "plt.title('Distribution by Classifier')\n",
        "plt.legend(bbox_to_anchor=(1.05, 1), loc=2, borderaxespad=0.)"
      ],
      "execution_count": null,
      "outputs": [
        {
          "output_type": "execute_result",
          "data": {
            "text/plain": [
              "<matplotlib.legend.Legend at 0x7f7cd8ef6a50>"
            ]
          },
          "metadata": {
            "tags": []
          },
          "execution_count": 160
        },
        {
          "output_type": "display_data",
          "data": {
            "image/png": "[encoded data removed]",
            "text/plain": [
              "<Figure size 792x432 with 1 Axes>"
            ]
          },
          "metadata": {
            "tags": []
          }
        }
      ]
    },
    {
      "cell_type": "code",
      "metadata": {
        "id": "LWNnYsxwkkla"
      },
      "source": [
        ""
      ],
      "execution_count": null,
      "outputs": []
    }
  ]
}